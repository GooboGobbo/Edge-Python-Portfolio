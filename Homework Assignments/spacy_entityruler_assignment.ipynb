{
 "cells": [
  {
   "cell_type": "markdown",
   "metadata": {},
   "source": [
    "### Step 1: Setup Environment"
   ]
  },
  {
   "cell_type": "code",
   "execution_count": 2,
   "metadata": {},
   "outputs": [
    {
     "name": "stdout",
     "output_type": "stream",
     "text": [
      "Requirement already satisfied: spacy in /opt/anaconda3/lib/python3.12/site-packages (3.8.4)\n",
      "Requirement already satisfied: pandas in /opt/anaconda3/lib/python3.12/site-packages (2.2.2)\n",
      "Requirement already satisfied: spacy-legacy<3.1.0,>=3.0.11 in /opt/anaconda3/lib/python3.12/site-packages (from spacy) (3.0.12)\n",
      "Requirement already satisfied: spacy-loggers<2.0.0,>=1.0.0 in /opt/anaconda3/lib/python3.12/site-packages (from spacy) (1.0.5)\n",
      "Requirement already satisfied: murmurhash<1.1.0,>=0.28.0 in /opt/anaconda3/lib/python3.12/site-packages (from spacy) (1.0.12)\n",
      "Requirement already satisfied: cymem<2.1.0,>=2.0.2 in /opt/anaconda3/lib/python3.12/site-packages (from spacy) (2.0.11)\n",
      "Requirement already satisfied: preshed<3.1.0,>=3.0.2 in /opt/anaconda3/lib/python3.12/site-packages (from spacy) (3.0.9)\n",
      "Requirement already satisfied: thinc<8.4.0,>=8.3.4 in /opt/anaconda3/lib/python3.12/site-packages (from spacy) (8.3.4)\n",
      "Requirement already satisfied: wasabi<1.2.0,>=0.9.1 in /opt/anaconda3/lib/python3.12/site-packages (from spacy) (1.1.3)\n",
      "Requirement already satisfied: srsly<3.0.0,>=2.4.3 in /opt/anaconda3/lib/python3.12/site-packages (from spacy) (2.5.1)\n",
      "Requirement already satisfied: catalogue<2.1.0,>=2.0.6 in /opt/anaconda3/lib/python3.12/site-packages (from spacy) (2.0.10)\n",
      "Requirement already satisfied: weasel<0.5.0,>=0.1.0 in /opt/anaconda3/lib/python3.12/site-packages (from spacy) (0.4.1)\n",
      "Requirement already satisfied: typer<1.0.0,>=0.3.0 in /opt/anaconda3/lib/python3.12/site-packages (from spacy) (0.9.0)\n",
      "Requirement already satisfied: tqdm<5.0.0,>=4.38.0 in /opt/anaconda3/lib/python3.12/site-packages (from spacy) (4.66.5)\n",
      "Requirement already satisfied: numpy>=1.19.0 in /opt/anaconda3/lib/python3.12/site-packages (from spacy) (1.26.4)\n",
      "Requirement already satisfied: requests<3.0.0,>=2.13.0 in /opt/anaconda3/lib/python3.12/site-packages (from spacy) (2.32.3)\n",
      "Requirement already satisfied: pydantic!=1.8,!=1.8.1,<3.0.0,>=1.7.4 in /opt/anaconda3/lib/python3.12/site-packages (from spacy) (2.8.2)\n",
      "Requirement already satisfied: jinja2 in /opt/anaconda3/lib/python3.12/site-packages (from spacy) (3.1.4)\n",
      "Requirement already satisfied: setuptools in /opt/anaconda3/lib/python3.12/site-packages (from spacy) (75.1.0)\n",
      "Requirement already satisfied: packaging>=20.0 in /opt/anaconda3/lib/python3.12/site-packages (from spacy) (24.1)\n",
      "Requirement already satisfied: langcodes<4.0.0,>=3.2.0 in /opt/anaconda3/lib/python3.12/site-packages (from spacy) (3.5.0)\n",
      "Requirement already satisfied: python-dateutil>=2.8.2 in /opt/anaconda3/lib/python3.12/site-packages (from pandas) (2.9.0.post0)\n",
      "Requirement already satisfied: pytz>=2020.1 in /opt/anaconda3/lib/python3.12/site-packages (from pandas) (2024.1)\n",
      "Requirement already satisfied: tzdata>=2022.7 in /opt/anaconda3/lib/python3.12/site-packages (from pandas) (2023.3)\n",
      "Requirement already satisfied: language-data>=1.2 in /opt/anaconda3/lib/python3.12/site-packages (from langcodes<4.0.0,>=3.2.0->spacy) (1.3.0)\n",
      "Requirement already satisfied: annotated-types>=0.4.0 in /opt/anaconda3/lib/python3.12/site-packages (from pydantic!=1.8,!=1.8.1,<3.0.0,>=1.7.4->spacy) (0.6.0)\n",
      "Requirement already satisfied: pydantic-core==2.20.1 in /opt/anaconda3/lib/python3.12/site-packages (from pydantic!=1.8,!=1.8.1,<3.0.0,>=1.7.4->spacy) (2.20.1)\n",
      "Requirement already satisfied: typing-extensions>=4.6.1 in /opt/anaconda3/lib/python3.12/site-packages (from pydantic!=1.8,!=1.8.1,<3.0.0,>=1.7.4->spacy) (4.11.0)\n",
      "Requirement already satisfied: six>=1.5 in /opt/anaconda3/lib/python3.12/site-packages (from python-dateutil>=2.8.2->pandas) (1.16.0)\n",
      "Requirement already satisfied: charset-normalizer<4,>=2 in /opt/anaconda3/lib/python3.12/site-packages (from requests<3.0.0,>=2.13.0->spacy) (3.3.2)\n",
      "Requirement already satisfied: idna<4,>=2.5 in /opt/anaconda3/lib/python3.12/site-packages (from requests<3.0.0,>=2.13.0->spacy) (3.7)\n",
      "Requirement already satisfied: urllib3<3,>=1.21.1 in /opt/anaconda3/lib/python3.12/site-packages (from requests<3.0.0,>=2.13.0->spacy) (2.2.3)\n",
      "Requirement already satisfied: certifi>=2017.4.17 in /opt/anaconda3/lib/python3.12/site-packages (from requests<3.0.0,>=2.13.0->spacy) (2025.1.31)\n",
      "Requirement already satisfied: blis<1.3.0,>=1.2.0 in /opt/anaconda3/lib/python3.12/site-packages (from thinc<8.4.0,>=8.3.4->spacy) (1.2.0)\n",
      "Requirement already satisfied: confection<1.0.0,>=0.0.1 in /opt/anaconda3/lib/python3.12/site-packages (from thinc<8.4.0,>=8.3.4->spacy) (0.1.5)\n",
      "Requirement already satisfied: click<9.0.0,>=7.1.1 in /opt/anaconda3/lib/python3.12/site-packages (from typer<1.0.0,>=0.3.0->spacy) (8.1.7)\n",
      "Requirement already satisfied: cloudpathlib<1.0.0,>=0.7.0 in /opt/anaconda3/lib/python3.12/site-packages (from weasel<0.5.0,>=0.1.0->spacy) (0.21.0)\n",
      "Requirement already satisfied: smart-open<8.0.0,>=5.2.1 in /opt/anaconda3/lib/python3.12/site-packages (from weasel<0.5.0,>=0.1.0->spacy) (5.2.1)\n",
      "Requirement already satisfied: MarkupSafe>=2.0 in /opt/anaconda3/lib/python3.12/site-packages (from jinja2->spacy) (2.1.3)\n",
      "Requirement already satisfied: marisa-trie>=1.1.0 in /opt/anaconda3/lib/python3.12/site-packages (from language-data>=1.2->langcodes<4.0.0,>=3.2.0->spacy) (1.2.1)\n",
      "Collecting en-core-web-sm==3.8.0\n",
      "  Downloading https://github.com/explosion/spacy-models/releases/download/en_core_web_sm-3.8.0/en_core_web_sm-3.8.0-py3-none-any.whl (12.8 MB)\n",
      "\u001b[2K     \u001b[90m━━━━━━━━━━━━━━━━━━━━━━━━━━━━━━━━━━━━━━━━\u001b[0m \u001b[32m12.8/12.8 MB\u001b[0m \u001b[31m16.6 MB/s\u001b[0m eta \u001b[36m0:00:00\u001b[0m \u001b[36m0:00:01\u001b[0m\n",
      "\u001b[?25h\u001b[38;5;2m✔ Download and installation successful\u001b[0m\n",
      "You can now load the package via spacy.load('en_core_web_sm')\n"
     ]
    }
   ],
   "source": [
    "# Double Checking I have everything installed\n",
    "\n",
    "import pandas as pd\n",
    "import spacy\n",
    "from spacy.pipeline import EntityRuler\n",
    "!pip install spacy pandas\n",
    "!python -m spacy download en_core_web_sm"
   ]
  },
  {
   "cell_type": "markdown",
   "metadata": {},
   "source": [
    "### Step 2: Load the Dataset"
   ]
  },
  {
   "cell_type": "code",
   "execution_count": 3,
   "metadata": {},
   "outputs": [
    {
     "data": {
      "text/html": [
       "<div>\n",
       "<style scoped>\n",
       "    .dataframe tbody tr th:only-of-type {\n",
       "        vertical-align: middle;\n",
       "    }\n",
       "\n",
       "    .dataframe tbody tr th {\n",
       "        vertical-align: top;\n",
       "    }\n",
       "\n",
       "    .dataframe thead th {\n",
       "        text-align: right;\n",
       "    }\n",
       "</style>\n",
       "<table border=\"1\" class=\"dataframe\">\n",
       "  <thead>\n",
       "    <tr style=\"text-align: right;\">\n",
       "      <th></th>\n",
       "      <th>Symbol</th>\n",
       "      <th>CompanyName</th>\n",
       "      <th>Industry</th>\n",
       "      <th>MarketCap</th>\n",
       "    </tr>\n",
       "  </thead>\n",
       "  <tbody>\n",
       "    <tr>\n",
       "      <th>0</th>\n",
       "      <td>A</td>\n",
       "      <td>Agilent Technologies</td>\n",
       "      <td>Life Sciences Tools &amp; Services</td>\n",
       "      <td>53.65B</td>\n",
       "    </tr>\n",
       "    <tr>\n",
       "      <th>1</th>\n",
       "      <td>AA</td>\n",
       "      <td>Alcoa</td>\n",
       "      <td>Metals &amp; Mining</td>\n",
       "      <td>9.25B</td>\n",
       "    </tr>\n",
       "    <tr>\n",
       "      <th>2</th>\n",
       "      <td>AAC</td>\n",
       "      <td>Ares Acquisition</td>\n",
       "      <td>Shell Companies</td>\n",
       "      <td>1.22B</td>\n",
       "    </tr>\n",
       "    <tr>\n",
       "      <th>3</th>\n",
       "      <td>AACG</td>\n",
       "      <td>ATA Creativity Global</td>\n",
       "      <td>Diversified Consumer Services</td>\n",
       "      <td>90.35M</td>\n",
       "    </tr>\n",
       "    <tr>\n",
       "      <th>4</th>\n",
       "      <td>AADI</td>\n",
       "      <td>Aadi Bioscience</td>\n",
       "      <td>Pharmaceuticals</td>\n",
       "      <td>104.85M</td>\n",
       "    </tr>\n",
       "  </tbody>\n",
       "</table>\n",
       "</div>"
      ],
      "text/plain": [
       "  Symbol            CompanyName                        Industry MarketCap\n",
       "0      A   Agilent Technologies  Life Sciences Tools & Services    53.65B\n",
       "1     AA                  Alcoa                 Metals & Mining     9.25B\n",
       "2    AAC       Ares Acquisition                 Shell Companies     1.22B\n",
       "3   AACG  ATA Creativity Global   Diversified Consumer Services    90.35M\n",
       "4   AADI        Aadi Bioscience                 Pharmaceuticals   104.85M"
      ]
     },
     "execution_count": 3,
     "metadata": {},
     "output_type": "execute_result"
    }
   ],
   "source": [
    "# Load the Dataset and separate the lines\n",
    "df = pd.read_csv('stocks-1.tsv', sep='\\t')\n",
    "\n",
    "#Display the first few rows to identify columns containing company names and stock symbols\n",
    "df.head()"
   ]
  },
  {
   "cell_type": "markdown",
   "metadata": {},
   "source": [
    "### Step 3: Extract Data for Patterns"
   ]
  },
  {
   "cell_type": "code",
   "execution_count": 4,
   "metadata": {},
   "outputs": [],
   "source": [
    "# Extract unique company names and stock symbols\n",
    "company_names = df[\"CompanyName\"].dropna().unique()\n",
    "stock_symbols = df[\"Symbol\"].dropna().unique()\n",
    "\n",
    "# Create an empty list to hold all the pattern dictionaries\n",
    "patterns = []\n",
    "\n",
    "# Loo through each unique company name\n",
    "for name in company_names:\n",
    "\n",
    "    # Add a pattern dictionary for this company with the label \"COMPANY\"\n",
    "    patterns.append({'label': \"COMPANY\", 'pattern': name})\n",
    "\n",
    "# Loop through each unique stock symbol\n",
    "for symbol in stock_symbols:\n",
    "\n",
    "    # Add a pattern dictionary for this stock with the label \"STOCK\"\n",
    "    patterns.append({'label': \"STOCK\", 'pattern': symbol})"
   ]
  },
  {
   "cell_type": "markdown",
   "metadata": {},
   "source": [
    "### Step 4: Create EntityRuler"
   ]
  },
  {
   "cell_type": "code",
   "execution_count": 5,
   "metadata": {},
   "outputs": [],
   "source": [
    "# Load spacy model\n",
    "nlp = spacy.load(\"en_core_web_sm\")\n",
    "\n",
    "# Add EntityRuler to the pipeline\n",
    "ruler = nlp.add_pipe(\"entity_ruler\",before=\"ner\")\n",
    "\n",
    "# Add patterns\n",
    "ruler.add_patterns(patterns)\n"
   ]
  },
  {
   "cell_type": "markdown",
   "metadata": {},
   "source": [
    "### Step 5: Test the EntityRuler"
   ]
  },
  {
   "cell_type": "code",
   "execution_count": null,
   "metadata": {},
   "outputs": [],
   "source": [
    "# Setting up the paragraphs\n",
    "\n",
    "paragraph1 = \"\"\"Helmerich & Payne (HP) saw its stock rise by 1.5%, fueled by \n",
    "optimistic forecasts in the Energy Equipment & Services sector. In contrast, \n",
    "Check-Cap (CHEK) faced a decline of 2.3% following its announcement of increased costs related to supply chain disruptions.\n",
    "\n",
    "Meanwhile, Vallon Pharmaceuticals (VLON) gained 0.8% after strong quarterly earnings, \n",
    "outperforming its peers in the Biotechnology space. Sequans Communications (SQNS) \n",
    "also recorded a modest increase of 0.5%, reflecting investors' confidence in its \n",
    "ability to navigate challenges in the Semiconductors & Semiconductor Equipment industry.\"\"\"\n",
    "\n",
    "paragraph2 = \"\"\"Aemetis (AMTX) saw its stock rise by 1.5%, fueled by optimistic \n",
    "forecasts in the Oil, Gas & Consumable Fuels sector. In contrast, Ferro Corporation\n",
    " (FOE) faced a decline of 2.3% following its announcement of increased costs related to supply chain disruptions.\n",
    "\n",
    "Meanwhile, RingCentral (RNG) gained 0.8% after strong quarterly earnings, outperforming\n",
    " its peers in the Software space. ACI Worldwide (ACIW) also recorded a\n",
    "   modest increase of 0.5%, reflecting investors' confidence in its ability to navigate challenges in the Software industry.\"\"\" \n",
    "\n",
    "paragraph3 =\"\"\"On a mixed trading day, Par Pacific Holdings (PARR) saw its stock \n",
    "rise by 1.5%, fueled by optimistic forecasts in the Oil, Gas & Consumable Fuels sector. \n",
    "In contrast, Nano Dimension (NNDM) faced a decline of 2.3% following its announcement\n",
    " of increased costs related to supply chain disruptions.\n",
    "\n",
    "Meanwhile, Beyond Meat (BYND) gained 0.8% after strong quarterly earnings,\n",
    " outperforming its peers in the Food Products space. Apollo Investment (AINV)\n",
    "   also recorded a modest increase of 0.5%, reflecting investors' confidence in \n",
    "   its ability to navigate challenges in the Capital Markets industry.\n",
    "\"\"\"\n",
    "# Making them into a list\n",
    "paragraphs = [paragraph1, paragraph2, paragraph3]"
   ]
  },
  {
   "cell_type": "code",
   "execution_count": 19,
   "metadata": {},
   "outputs": [
    {
     "name": "stdout",
     "output_type": "stream",
     "text": [
      "\n",
      "=== Entities in Paragraph 1 ===\n",
      "Helmerich & Payne (COMPANY)\n",
      "HP (STOCK)\n",
      "Check-Cap (COMPANY)\n",
      "CHEK (STOCK)\n",
      "Vallon Pharmaceuticals (COMPANY)\n",
      "VLON (STOCK)\n",
      "Sequans Communications (COMPANY)\n",
      "SQNS (STOCK)\n",
      "\n",
      "=== Entities in Paragraph 2 ===\n",
      "Aemetis (COMPANY)\n",
      "AMTX (STOCK)\n",
      "Ferro Corporation (COMPANY)\n",
      "FOE (STOCK)\n",
      "RingCentral (COMPANY)\n",
      "RNG (STOCK)\n",
      "ACI Worldwide (COMPANY)\n",
      "ACIW (STOCK)\n",
      "\n",
      "=== Entities in Paragraph 3 ===\n",
      "Par Pacific Holdings (COMPANY)\n",
      "PARR (STOCK)\n",
      "Nano Dimension (COMPANY)\n",
      "NNDM (STOCK)\n",
      "Beyond Meat (COMPANY)\n",
      "BYND (STOCK)\n",
      "Apollo Investment (COMPANY)\n",
      "AINV (STOCK)\n"
     ]
    }
   ],
   "source": [
    "# Loop through each paragraph and extract custom entities\n",
    "for i, para in enumerate(paragraphs, 1):\n",
    "\n",
    "    # Run the paragraph through the spacy NLP pipeline\n",
    "    doc = nlp(para)\n",
    "\n",
    "    # Print a header for the current paragraph\n",
    "    print(f\"\\n=== Entities in Paragraph {i} ===\")\n",
    "\n",
    "    # Loop through all recgonized entities in the paragaph\n",
    "    for ent in doc.ents:\n",
    "        \n",
    "        # Only print entities that match our custom labels: COMPANY or STOCK\n",
    "        if ent.label_ in [\"COMPANY\", \"STOCK\"]:\n",
    "\n",
    "            # Print the entity text and its label\n",
    "            print(f\"{ent.text} ({ent.label_})\")"
   ]
  },
  {
   "cell_type": "code",
   "execution_count": null,
   "metadata": {},
   "outputs": [],
   "source": []
  }
 ],
 "metadata": {
  "kernelspec": {
   "display_name": "base",
   "language": "python",
   "name": "python3"
  },
  "language_info": {
   "codemirror_mode": {
    "name": "ipython",
    "version": 3
   },
   "file_extension": ".py",
   "mimetype": "text/x-python",
   "name": "python",
   "nbconvert_exporter": "python",
   "pygments_lexer": "ipython3",
   "version": "3.12.7"
  }
 },
 "nbformat": 4,
 "nbformat_minor": 2
}
