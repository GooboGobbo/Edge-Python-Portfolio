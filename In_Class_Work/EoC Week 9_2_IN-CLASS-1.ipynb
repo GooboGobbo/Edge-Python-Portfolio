{
 "cells": [
  {
   "cell_type": "markdown",
   "metadata": {},
   "source": [
    "# More SQL with SQLite in Python\n",
    "\n",
    "**Note:** Ensure the `sakila.db` file is in your working directory before running the notebook."
   ]
  },
  {
   "cell_type": "code",
   "execution_count": 1,
   "metadata": {},
   "outputs": [
    {
     "name": "stdout",
     "output_type": "stream",
     "text": [
      "Connected to SQLite Sakila database!\n"
     ]
    }
   ],
   "source": [
    "import sqlite3\n",
    "import pandas as pd\n",
    "\n",
    "# Set the path to the SQLite database\n",
    "db_path = \"sakila.db\"\n",
    "\n",
    "# Connect to SQLite database\n",
    "conn = sqlite3.connect(db_path)\n",
    "print(\"Connected to SQLite Sakila database!\")"
   ]
  },
  {
   "cell_type": "markdown",
   "metadata": {},
   "source": [
    "### Exploring the Database Schema\n",
    "\n",
    "Before diving into queries, it's useful to know which tables are available in the Sakila database. We'll list all tables by querying the SQLite master table."
   ]
  },
  {
   "cell_type": "code",
   "execution_count": 2,
   "metadata": {},
   "outputs": [
    {
     "name": "stdout",
     "output_type": "stream",
     "text": [
      "Tables in the database:\n",
      "               name\n",
      "0             actor\n",
      "1           country\n",
      "2              city\n",
      "3           address\n",
      "4          language\n",
      "5          category\n",
      "6          customer\n",
      "7              film\n",
      "8        film_actor\n",
      "9     film_category\n",
      "10        film_text\n",
      "11        inventory\n",
      "12            staff\n",
      "13            store\n",
      "14          payment\n",
      "15           rental\n",
      "16        customers\n",
      "17  sqlite_sequence\n",
      "18       test_table\n"
     ]
    }
   ],
   "source": [
    "# List all tables in the database\n",
    "tables = pd.read_sql(\"\"\"SELECT name \n",
    "                        FROM sqlite_master \n",
    "                        WHERE type='table';\"\"\", conn)\n",
    "\n",
    "print(\"Tables in the database:\")\n",
    "print(tables)"
   ]
  },
  {
   "cell_type": "markdown",
   "metadata": {},
   "source": [
    "## Part 1. Other Operations\n",
    "These operations help you filter numeric data and handle potential NULLs. We’ll use the film table as an example:"
   ]
  },
  {
   "cell_type": "markdown",
   "metadata": {},
   "source": [
    "### BETWEEN Operator\n",
    "Select films where the film length is within a specified range."
   ]
  },
  {
   "cell_type": "code",
   "execution_count": 6,
   "metadata": {},
   "outputs": [
    {
     "name": "stdout",
     "output_type": "stream",
     "text": [
      "Select films between 80 and 120 minutes:\n",
      "                 title  length\n",
      "0    CALENDAR GUNFIGHT     120\n",
      "1      COMMAND DARLING     120\n",
      "2           DAZED PUNK     120\n",
      "3           DOLLS RAGE     120\n",
      "4          KARATE MOON     120\n",
      "..                 ...     ...\n",
      "295   SADDLE ANTITRUST      80\n",
      "296         SEA VIRGIN      80\n",
      "297   SHAWSHANK BUBBLE      80\n",
      "298          TURN STAR      80\n",
      "299        WAR NOTTING      80\n",
      "\n",
      "[300 rows x 2 columns]\n"
     ]
    }
   ],
   "source": [
    "# Define SQL query to fetch the first 5 rows from the actor table.\n",
    "query_between = \"\"\"\n",
    "                SELECT title, length\n",
    "                FROM film\n",
    "                WHERE length BETWEEN 80 AND 120\n",
    "                ORDER BY length DESC\n",
    "\n",
    "                \"\"\"\n",
    "\n",
    "# Execute the query using pd.read_sql.\n",
    "df_between = pd.read_sql(query_between, conn)\n",
    "\n",
    "print(\"Select films between 80 and 120 minutes:\")\n",
    "print(df_between)"
   ]
  },
  {
   "cell_type": "markdown",
   "metadata": {},
   "source": [
    "### IS NOT NULL Operator\n",
    "Ensure that you only fetch rows with actual (non-null) values."
   ]
  },
  {
   "cell_type": "code",
   "execution_count": 10,
   "metadata": {},
   "outputs": [
    {
     "name": "stdout",
     "output_type": "stream",
     "text": [
      "Drop rows without descriptions:\n",
      "                 title                                        description\n",
      "0     ACADEMY DINOSAUR  A Epic Drama of a Feminist And a Mad Scientist...\n",
      "1       ACE GOLDFINGER  A Astounding Epistle of a Database Administrat...\n",
      "2     ADAPTATION HOLES  A Astounding Reflection of a Lumberjack And a ...\n",
      "3     AFFAIR PREJUDICE  A Fanciful Documentary of a Frisbee And a Lumb...\n",
      "4          AFRICAN EGG  A Fast-Paced Documentary of a Pastry Chef And ...\n",
      "..                 ...                                                ...\n",
      "995     YOUNG LANGUAGE  A Unbelieveable Yarn of a Boat And a Database ...\n",
      "996         YOUTH KICK  A Touching Drama of a Teacher And a Cat who mu...\n",
      "997       ZHIVAGO CORE  A Fateful Yarn of a Composer And a Man who mus...\n",
      "998  ZOOLANDER FICTION  A Fateful Reflection of a Waitress And a Boat ...\n",
      "999          ZORRO ARK  A Intrepid Panorama of a Mad Scientist And a B...\n",
      "\n",
      "[1000 rows x 2 columns]\n"
     ]
    }
   ],
   "source": [
    "# Define SQL query to fetch the first 5 rows from the actor table.\n",
    "query_nonnull = \"\"\"\n",
    "                SELECT title, description\n",
    "                FROM film\n",
    "                WHERE description IS NOT NULL;\n",
    "                \"\"\"\n",
    "\n",
    "# Execute the query using pd.read_sql.\n",
    "df_nonnull = pd.read_sql(query_nonnull, conn)\n",
    "\n",
    "print(\"Drop rows without descriptions:\")\n",
    "print(df_nonnull)"
   ]
  },
  {
   "cell_type": "markdown",
   "metadata": {},
   "source": [
    "### IN Operator\n",
    "Filter rows by matching a column against a list of values."
   ]
  },
  {
   "cell_type": "code",
   "execution_count": 13,
   "metadata": {},
   "outputs": [
    {
     "name": "stdout",
     "output_type": "stream",
     "text": [
      "Query of distint count of actors per title and G and PG rated films:\n",
      "    rating                 title  actor_count\n",
      "0        G        ACE GOLDFINGER            4\n",
      "1        G      AFFAIR PREJUDICE            5\n",
      "2        G           AFRICAN EGG            5\n",
      "3        G       ALAMO VIDEOTAPE            4\n",
      "4        G     AMISTAD MIDSUMMER            4\n",
      "..     ...                   ...          ...\n",
      "366     PG    WIZARD COLDBLOODED            9\n",
      "367     PG             WON DARES            5\n",
      "368     PG  WONDERLAND CHRISTMAS            5\n",
      "369     PG          WORDS HUNTER            6\n",
      "370     PG          WORST BANGER            4\n",
      "\n",
      "[371 rows x 3 columns]\n"
     ]
    }
   ],
   "source": [
    "# Define SQL query to fetch the first 5 rows from the actor table.\n",
    "query_rating = \"\"\"\n",
    "                SELECT f.rating, f.title, COUNT(DISTINCT fa.actor_id) AS actor_count\n",
    "                FROM film AS f\n",
    "                JOIN film_actor AS fa ON f.film_id = fa.film_id\n",
    "                WHERE f.rating IN (\"G\", \"PG\")\n",
    "                GROUP BY f.rating, f.title\n",
    "               \"\"\"\n",
    "\n",
    "# Execute the query using pd.read_sql.\n",
    "df_rating = pd.read_sql(query_rating, conn)\n",
    "\n",
    "print(\"Query of distint count of actors per title and G and PG rated films:\")\n",
    "print(df_rating)"
   ]
  },
  {
   "cell_type": "markdown",
   "metadata": {},
   "source": [
    "## Part 2. Text Operations\n",
    "Use the LIKE operator with wildcards to match text patterns—again, using the `film` table:\n",
    "\n",
    "Using Wildcards with LIKE:\n",
    "\n",
    "- `%` matches zero or more characters.\n",
    "- `_` matches exactly one character."
   ]
  },
  {
   "cell_type": "code",
   "execution_count": 18,
   "metadata": {},
   "outputs": [
    {
     "name": "stdout",
     "output_type": "stream",
     "text": [
      "Query films that either start with A or end with s:\n",
      "                    title\n",
      "0        ACADEMY DINOSAUR\n",
      "1          ACE GOLDFINGER\n",
      "2        ADAPTATION HOLES\n",
      "3        AFFAIR PREJUDICE\n",
      "4             AFRICAN EGG\n",
      "..                    ...\n",
      "179             WAKE JAWS\n",
      "180             WON DARES\n",
      "181  WONDERLAND CHRISTMAS\n",
      "182   WORKING MICROCOSMOS\n",
      "183    WORLD LEATHERNECKS\n",
      "\n",
      "[184 rows x 1 columns]\n"
     ]
    }
   ],
   "source": [
    "query_wildcard1 = \"\"\"\n",
    "                    SELECT title\n",
    "                    FROM film\n",
    "                    WHERE title LIKE 'A%' OR title LIKE '%S'\n",
    "                  \"\"\"\n",
    "\n",
    "# Execute the query using pd.read_sql.\n",
    "df_wc1 = pd.read_sql(query_wildcard1, conn)\n",
    "\n",
    "print(\"Query films that either start with A or end with s:\")\n",
    "print(df_wc1)"
   ]
  },
  {
   "cell_type": "code",
   "execution_count": 17,
   "metadata": {},
   "outputs": [
    {
     "name": "stdout",
     "output_type": "stream",
     "text": [
      "Query films where the second letter is 'a':\n",
      "                      title\n",
      "0                 BABY HALL\n",
      "1       BACKLASH UNDEFEATED\n",
      "2               BADMAN DAWN\n",
      "3           BAKED CLEOPATRA\n",
      "4          BALLOON HOMEWARD\n",
      "..                      ...\n",
      "184           WASH HEAVENLY\n",
      "185        WASTELAND DIVINE\n",
      "186             WATCH TRACY\n",
      "187  WATERFRONT DELIVERANCE\n",
      "188      WATERSHIP FRONTIER\n",
      "\n",
      "[189 rows x 1 columns]\n"
     ]
    }
   ],
   "source": [
    "query_wildcard2 = \"\"\"\n",
    "                    SELECT title\n",
    "                    FROM film\n",
    "                    WHERE title LIKE '_A%'\n",
    "                  \"\"\"\n",
    "\n",
    "# Execute the query using pd.read_sql.\n",
    "df_wc2 = pd.read_sql(query_wildcard2, conn)\n",
    "\n",
    "print(\"Query films where the second letter is 'a':\")\n",
    "print(df_wc2)"
   ]
  },
  {
   "cell_type": "markdown",
   "metadata": {},
   "source": [
    "# Group Exercises\n",
    "- Find a neighbor, yes, move around and make a new friend!\n",
    "- Work through the following practice exercises together."
   ]
  },
  {
   "cell_type": "markdown",
   "metadata": {},
   "source": [
    "# Partner Practice Exercise\n",
    "\n",
    "Now that we've seen several examples of JOINs and aggregation queries, it's time for you to practice with a partner. Complete the following tasks using the Sakila database:\n",
    "\n",
    "1. **Challenge 1: Short Films with Language**\n",
    "   - Write a query that returns each film’s title, description, and language name (labeled as “language”) from the `film` and `language` tables, for all films with length under 100. Join `film.language_id` to `language.language_id` to retrieve the language name.\n",
    "\n",
    "2. **Challenge 2: Specific Ratings Filter with Language**\n",
    "   - Write a query to display each film’s title, rating, and language name (as “language”) for all films whose rating is either ‘PG-13’ or ‘R.’ Join film.language_id to language.language_id.\n",
    "\n",
    "3. **Challenge 3: Pattern Matching on Film Titles with Category**\n",
    "   - Write a query to list each film’s title and its category name (as “category”) for all films whose title begins with “T” or ends with “s.” Join film to film_category and then to category to retrieve the category name.\n",
    "\n",
    "4. **Challenge 4: Single-Character Wildcard with Actor Join**\n",
    "   - Write a query that lists each film’s title and the actor’s full name (using first_name || ' ' || last_name) for all films whose title has “y” as the second character. Join film, film_actor, and actor on their respective IDs.\n",
    "\n",
    "5. **Challenge 5: Distinct Customer Payments and Rentals**\n",
    "   - Write a query to display each customer’s ID along with the total number of distinct payments and rentals they have made. Use LEFT JOIN with the payment and rental tables, group by the customer, and order by total payments (descending) then total rentals (descending).\n",
    "\n",
    "6. **Challenge 6: Advanced Filtering with Category**\n",
    "   - Write a query that returns each film’s title, rental rate, length, and category (labeled as “category”) for films whose rental rate is between 2.99 and 4.99, rating is either ‘PG’ or ‘R,’ and title starts with “A.” Join film to film_category and category to retrieve the category name.\n",
    "         - HINT: USE `AND` as a dependent clause of your `WHERE` clause to create multiple conditions.\n",
    "         \n",
    "Discuss your approaches with your partner, compare your results, and be ready to review a few solutions as a class."
   ]
  },
  {
   "cell_type": "code",
   "execution_count": 30,
   "metadata": {},
   "outputs": [
    {
     "name": "stdout",
     "output_type": "stream",
     "text": [
      "Challenge 1\n",
      "                   title                                        description  \\\n",
      "0       ACADEMY DINOSAUR  A Epic Drama of a Feminist And a Mad Scientist...   \n",
      "1         ACE GOLDFINGER  A Astounding Epistle of a Database Administrat...   \n",
      "2       ADAPTATION HOLES  A Astounding Reflection of a Lumberjack And a ...   \n",
      "3        AIRPLANE SIERRA  A Touching Saga of a Hunter And a Butler who m...   \n",
      "4        AIRPORT POLLOCK  A Epic Tale of a Moose And a Girl who must Con...   \n",
      "..                   ...                                                ...   \n",
      "373        WOLVES DESIRE  A Fast-Paced Drama of a Squirrel And a Robot w...   \n",
      "374            WONKA SEA  A Brilliant Saga of a Boat And a Mad Scientist...   \n",
      "375  WORKING MICROCOSMOS  A Stunning Epistle of a Dentist And a Dog who ...   \n",
      "376          YENTL IDAHO  A Amazing Display of a Robot And a Astronaut w...   \n",
      "377            ZORRO ARK  A Intrepid Panorama of a Mad Scientist And a B...   \n",
      "\n",
      "    language  \n",
      "0    English  \n",
      "1    English  \n",
      "2    English  \n",
      "3    English  \n",
      "4    English  \n",
      "..       ...  \n",
      "373  English  \n",
      "374  English  \n",
      "375  English  \n",
      "376  English  \n",
      "377  English  \n",
      "\n",
      "[378 rows x 3 columns]\n"
     ]
    }
   ],
   "source": [
    "query_chal1 = \"\"\"\n",
    "                SELECT f.title, f.description, l.name AS language\n",
    "                FROM film AS f\n",
    "                JOIN language AS l ON f.language_id = l.language_id\n",
    "                WHERE f.length < 100;\n",
    "              \"\"\"\n",
    "\n",
    "# Execute the query using pd.read_sql.\n",
    "df_chal1 = pd.read_sql(query_chal1, conn)\n",
    "\n",
    "print(\"Challenge 1\")\n",
    "print(df_chal1)"
   ]
  },
  {
   "cell_type": "code",
   "execution_count": 33,
   "metadata": {},
   "outputs": [
    {
     "name": "stdout",
     "output_type": "stream",
     "text": [
      "Challenge 2\n",
      "                  title rating language\n",
      "0       AIRPLANE SIERRA  PG-13  English\n",
      "1       AIRPORT POLLOCK      R  English\n",
      "2         ALABAMA DEVIL  PG-13  English\n",
      "3            ALONE TRIP      R  English\n",
      "4         ALTER VICTORY  PG-13  English\n",
      "..                  ...    ...      ...\n",
      "413  WORLD LEATHERNECKS  PG-13  English\n",
      "414      WRONG BEHAVIOR  PG-13  English\n",
      "415       WYOMING STORM  PG-13  English\n",
      "416         YENTL IDAHO      R  English\n",
      "417   ZOOLANDER FICTION      R  English\n",
      "\n",
      "[418 rows x 3 columns]\n"
     ]
    }
   ],
   "source": [
    "query_chal2 = \"\"\"\n",
    "                SELECT f.title, f.rating, l.name AS language\n",
    "                FROM film AS f\n",
    "                JOIN language AS l ON f.language_id = l.language_id\n",
    "                WHERE f.rating IN ('R','PG-13')\n",
    "              \"\"\"\n",
    "\n",
    "# Execute the query using pd.read_sql.\n",
    "df_chal2 = pd.read_sql(query_chal2, conn)\n",
    "\n",
    "print(\"Challenge 2\")\n",
    "print(df_chal2)"
   ]
  },
  {
   "cell_type": "code",
   "execution_count": 46,
   "metadata": {},
   "outputs": [
    {
     "name": "stdout",
     "output_type": "stream",
     "text": [
      "Challenge 3\n",
      "                    title     category\n",
      "0        ADAPTATION HOLES  Documentary\n",
      "1     AMELIE HELLFIGHTERS        Music\n",
      "2         AMERICAN CIRCUS       Action\n",
      "3    ANACONDA CONFESSIONS    Animation\n",
      "4        ANALYZE HOOSIERS       Horror\n",
      "..                    ...          ...\n",
      "181             WAKE JAWS          New\n",
      "182             WON DARES        Music\n",
      "183  WONDERLAND CHRISTMAS       Sci-Fi\n",
      "184   WORKING MICROCOSMOS       Travel\n",
      "185    WORLD LEATHERNECKS       Horror\n",
      "\n",
      "[186 rows x 2 columns]\n"
     ]
    }
   ],
   "source": [
    "query_chal3 = \"\"\"\n",
    "                SELECT f.title, c.name AS category\n",
    "                FROM film AS f\n",
    "                JOIN film_category AS fc ON f.film_id = fc.film_id\n",
    "                JOIN category AS c ON fc.category_id = c.category_id\n",
    "                WHERE f.title LIKE 'T%' OR title LIKE '%S' \n",
    "              \"\"\"\n",
    "\n",
    "# Execute the query using pd.read_sql.\n",
    "df_chal3 = pd.read_sql(query_chal3, conn)\n",
    "\n",
    "print(\"Challenge 3\")\n",
    "print(df_chal3)"
   ]
  },
  {
   "cell_type": "code",
   "execution_count": 47,
   "metadata": {},
   "outputs": [
    {
     "name": "stdout",
     "output_type": "stream",
     "text": [
      "Challenge 4\n",
      "               title    actor_full_name\n",
      "0      WYOMING STORM    BETTE_NICHOLSON\n",
      "1   TYCOON GATHERING      VIVIEN_BERGEN\n",
      "2        HYDE DOCTOR       CUBA_OLIVIER\n",
      "3     CYCLONE FAMILY       HELEN_VOIGHT\n",
      "4    DYNAMITE TARZAN        BOB_FAWCETT\n",
      "5        HYDE DOCTOR      LUCILLE_TRACY\n",
      "6     CYCLONE FAMILY       RIP_CRAWFORD\n",
      "7      WYOMING STORM      WOODY_HOFFMAN\n",
      "8     CYCLONE FAMILY          JUDY_DEAN\n",
      "9       EYES DRIVING         DAN_HARRIS\n",
      "10       HYDE DOCTOR       JAYNE_NEESON\n",
      "11       HYDE DOCTOR         BURT_POSEY\n",
      "12  HYSTERICAL GRAIL         BURT_POSEY\n",
      "13       DYING MAKER    GROUCHO_SINATRA\n",
      "14     MYSTIC TRUMAN     SCARLETT_DAMON\n",
      "15  HYSTERICAL GRAIL   MINNIE_ZELLWEGER\n",
      "16   DYNAMITE TARZAN     CHARLIZE_DENCH\n",
      "17  HYSTERICAL GRAIL     CHARLIZE_DENCH\n",
      "18       HYDE DOCTOR      ELLEN_PRESLEY\n",
      "19  HYSTERICAL GRAIL          MEG_HAWKE\n",
      "20  TYCOON GATHERING       SPENCER_DEPP\n",
      "21  HYSTERICAL GRAIL        WALTER_TORN\n",
      "22     WYOMING STORM       SIDNEY_CROWE\n",
      "23       HYDE DOCTOR     GINA_DEGENERES\n",
      "24  TYCOON GATHERING  CAMERON_ZELLWEGER\n",
      "25     WYOMING STORM      HARRISON_BALE\n",
      "26      EYES DRIVING        RENEE_TRACY\n",
      "27     WYOMING STORM    PENELOPE_MONROE\n",
      "28   DYNAMITE TARZAN     JULIANNE_DENCH\n",
      "29  HYSTERICAL GRAIL     JULIANNE_DENCH\n",
      "30     MYSTIC TRUMAN      KEVIN_GARLAND\n",
      "31  HYSTERICAL GRAIL    MORGAN_WILLIAMS\n",
      "32  HYSTERICAL GRAIL        LUCILLE_DEE\n",
      "33   DYNAMITE TARZAN       EWAN_GOODING\n",
      "34     MYSTIC TRUMAN         RIVER_DEAN\n",
      "35      EYES DRIVING        FAY_WINSLET\n",
      "36  HYSTERICAL GRAIL        JAYNE_NOLTE\n",
      "37  TYCOON GATHERING      MINNIE_KILMER\n",
      "38     MYSTIC TRUMAN    HUMPHREY_WILLIS\n",
      "39      EYES DRIVING     MICHAEL_BENING\n",
      "40       DYING MAKER     MICHAEL_BOLGER\n",
      "41  TYCOON GATHERING     MICHAEL_BOLGER\n",
      "42     WYOMING STORM    JULIA_ZELLWEGER\n",
      "43   DYNAMITE TARZAN         CUBA_BIRCH\n",
      "44      EYES DRIVING  JAYNE_SILVERSTONE\n",
      "45  TYCOON GATHERING        BELA_WALKEN\n"
     ]
    }
   ],
   "source": [
    "query_chal4 = \"\"\"\n",
    "                SELECT f.title, a.first_name ||\"_\"|| a.last_name AS actor_full_name\n",
    "                FROM film AS f\n",
    "                JOIN film_actor AS fa ON f.film_id = fa.film_id\n",
    "                JOIN actor AS a ON fa.actor_id = a.actor_id\n",
    "                WHERE f.title LIKE '_Y%'\n",
    "              \"\"\"\n",
    "\n",
    "# Execute the query using pd.read_sql.\n",
    "df_chal4 = pd.read_sql(query_chal4, conn)\n",
    "\n",
    "print(\"Challenge 4\")\n",
    "print(df_chal4)"
   ]
  },
  {
   "cell_type": "code",
   "execution_count": null,
   "metadata": {},
   "outputs": [
    {
     "name": "stdout",
     "output_type": "stream",
     "text": [
      "Challenge 5\n",
      "       payment_id  customer_id  staff_id  rental_id  amount  \\\n",
      "0               1            1         1       76.0    2.99   \n",
      "1               2            1         1      573.0    0.99   \n",
      "2               3            1         1     1185.0    5.99   \n",
      "3               4            1         2     1422.0    0.99   \n",
      "4               5            1         2     1476.0    9.99   \n",
      "...           ...          ...       ...        ...     ...   \n",
      "16044       16045          599         1    14599.0    4.99   \n",
      "16045       16046          599         1    14719.0    1.99   \n",
      "16046       16047          599         2    15590.0    8.99   \n",
      "16047       16048          599         2    15719.0    2.99   \n",
      "16048       16049          599         2    15725.0    2.99   \n",
      "\n",
      "                  payment_date          last_update  rental_id  \\\n",
      "0      2005-05-25 11:30:37.000  2021-03-06 15:55:57       76.0   \n",
      "1      2005-05-28 10:35:23.000  2021-03-06 15:55:57      573.0   \n",
      "2      2005-06-15 00:54:12.000  2021-03-06 15:55:57     1185.0   \n",
      "3      2005-06-15 18:02:53.000  2021-03-06 15:55:57     1422.0   \n",
      "4      2005-06-15 21:08:46.000  2021-03-06 15:55:57     1476.0   \n",
      "...                        ...                  ...        ...   \n",
      "16044  2005-08-21 17:43:42.000  2021-03-06 15:58:08    14599.0   \n",
      "16045  2005-08-21 21:41:57.000  2021-03-06 15:58:08    14719.0   \n",
      "16046  2005-08-23 06:09:44.000  2021-03-06 15:58:09    15590.0   \n",
      "16047  2005-08-23 11:08:46.000  2021-03-06 15:58:09    15719.0   \n",
      "16048  2005-08-23 11:25:00.000  2021-03-06 15:58:09    15725.0   \n",
      "\n",
      "                   rental_date  inventory_id  customer_id  \\\n",
      "0      2005-05-25 11:30:37.000        3021.0          1.0   \n",
      "1      2005-05-28 10:35:23.000        4020.0          1.0   \n",
      "2      2005-06-15 00:54:12.000        2785.0          1.0   \n",
      "3      2005-06-15 18:02:53.000        1021.0          1.0   \n",
      "4      2005-06-15 21:08:46.000        1407.0          1.0   \n",
      "...                        ...           ...          ...   \n",
      "16044  2005-08-21 17:43:42.000        4575.0        599.0   \n",
      "16045  2005-08-21 21:41:57.000        4091.0        599.0   \n",
      "16046  2005-08-23 06:09:44.000        4048.0        599.0   \n",
      "16047  2005-08-23 11:08:46.000        3990.0        599.0   \n",
      "16048  2005-08-23 11:25:00.000         378.0        599.0   \n",
      "\n",
      "                   return_date  staff_id          last_update  \n",
      "0      2005-06-03 12:00:37.000       2.0  2021-03-06 15:53:41  \n",
      "1      2005-06-03 06:32:23.000       1.0  2021-03-06 15:53:45  \n",
      "2      2005-06-23 02:42:12.000       2.0  2021-03-06 15:53:50  \n",
      "3      2005-06-19 15:54:53.000       2.0  2021-03-06 15:53:52  \n",
      "4      2005-06-25 02:26:46.000       1.0  2021-03-06 15:53:52  \n",
      "...                        ...       ...                  ...  \n",
      "16044  2005-08-22 18:53:42.000       1.0  2021-03-06 15:55:43  \n",
      "16045  2005-08-25 20:37:57.000       1.0  2021-03-06 15:55:44  \n",
      "16046  2005-09-01 06:53:44.000       2.0  2021-03-06 15:55:52  \n",
      "16047  2005-08-25 07:25:46.000       1.0  2021-03-06 15:55:54  \n",
      "16048  2005-08-26 11:46:00.000       1.0  2021-03-06 15:55:54  \n",
      "\n",
      "[16049 rows x 14 columns]\n"
     ]
    }
   ],
   "source": [
    "query_chal5 = \"\"\"\n",
    "                SELECT c.customer_id,  \n",
    "                FROM customer AS c\n",
    "                LEFT JOIN rental as r ON p.rental_id = r.rental_id\n",
    "\n",
    "              \"\"\"\n",
    "\n",
    "# Execute the query using pd.read_sql.\n",
    "df_chal5 = pd.read_sql(query_chal5, conn)\n",
    "\n",
    "print(\"Challenge 5\")\n",
    "print(df_chal5)"
   ]
  },
  {
   "cell_type": "code",
   "execution_count": null,
   "metadata": {},
   "outputs": [],
   "source": [
    "query_chal6 = \"\"\"\n",
    "        \n",
    "              \"\"\"\n",
    "\n",
    "# Execute the query using pd.read_sql.\n",
    "df_chal6 = pd.read_sql(query_chal6, conn)\n",
    "\n",
    "print(\"Challenge 6\")\n",
    "print(df_chal6)"
   ]
  },
  {
   "cell_type": "markdown",
   "metadata": {},
   "source": [
    "## Close the connection to the database.\n",
    "Always close the connection when you're done to free up resources."
   ]
  },
  {
   "cell_type": "code",
   "execution_count": 14,
   "metadata": {},
   "outputs": [],
   "source": [
    "# Close the connection\n",
    "conn.close()"
   ]
  }
 ],
 "metadata": {
  "kernelspec": {
   "display_name": "base",
   "language": "python",
   "name": "python3"
  },
  "language_info": {
   "codemirror_mode": {
    "name": "ipython",
    "version": 3
   },
   "file_extension": ".py",
   "mimetype": "text/x-python",
   "name": "python",
   "nbconvert_exporter": "python",
   "pygments_lexer": "ipython3",
   "version": "3.12.7"
  }
 },
 "nbformat": 4,
 "nbformat_minor": 2
}
